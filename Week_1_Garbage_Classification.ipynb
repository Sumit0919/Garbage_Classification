{
  "nbformat": 4,
  "nbformat_minor": 0,
  "metadata": {
    "colab": {
      "provenance": [],
      "authorship_tag": "ABX9TyN5T/+uiHOwMW3i+usda2p4",
      "include_colab_link": true
    },
    "kernelspec": {
      "name": "python3",
      "display_name": "Python 3"
    },
    "language_info": {
      "name": "python"
    }
  },
  "cells": [
    {
      "cell_type": "markdown",
      "metadata": {
        "id": "view-in-github",
        "colab_type": "text"
      },
      "source": [
        "<a href=\"https://colab.research.google.com/github/Sumit0919/Week-1-_Garbage_Classification/blob/main/Week_1_Garbage_Classification.ipynb\" target=\"_parent\"><img src=\"https://colab.research.google.com/assets/colab-badge.svg\" alt=\"Open In Colab\"/></a>"
      ]
    },
    {
      "cell_type": "code",
      "source": [
        "from keras.applications import EfficientNetV2B2\n",
        "from keras.applications.efficientnet_v2 import preprocess_input\n",
        "\n",
        "base_model = EfficientNetV2B2(include_top=False, weights='imagenet', input_shape=(224,224,3))"
      ],
      "metadata": {
        "id": "vm_LbwX8hrka"
      },
      "execution_count": null,
      "outputs": []
    },
    {
      "cell_type": "markdown",
      "source": [
        "## Explanation:\n",
        "\n",
        "In this project, we used a pre-trained model called **EfficientNetV2B2**.  \n",
        "It is already trained on ImageNet (a huge image dataset).  \n",
        "We used this model with `include_top=False` to remove the final layer.  \n",
        "Then we will add our own custom layers to classify garbage images like:\n",
        "- Plastic\n",
        "- Metal\n",
        "- Paper\n",
        "- Trash\n",
        "\n",
        "This method is called **Transfer Learning**, and it helps us get good results without training a model from zero."
      ],
      "metadata": {
        "id": "yfoxyvhQipEs"
      }
    }
  ]
}