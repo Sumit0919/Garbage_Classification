{
  "nbformat": 4,
  "nbformat_minor": 0,
  "metadata": {
    "colab": {
      "provenance": [],
      "authorship_tag": "ABX9TyMMQTl6RqdhY4ANJs2ybVFj",
      "include_colab_link": true
    },
    "kernelspec": {
      "name": "python3",
      "display_name": "Python 3"
    },
    "language_info": {
      "name": "python"
    }
  },
  "cells": [
    {
      "cell_type": "markdown",
      "metadata": {
        "id": "view-in-github",
        "colab_type": "text"
      },
      "source": [
        "<a href=\"https://colab.research.google.com/github/Sumit0919/Garbage_Classification/blob/main/Week_2_garbage_classification.ipynb\" target=\"_parent\"><img src=\"https://colab.research.google.com/assets/colab-badge.svg\" alt=\"Open In Colab\"/></a>"
      ]
    },
    {
      "cell_type": "markdown",
      "source": [
        "\n",
        "Challenges and Scope\n",
        "Key Challenge: A notable challenge encountered is the inherent class imbalance within the dataset.\n",
        "Transfer Learning is a machine learning technique where a pre-trained model developed for a specific task is reused as the starting point for a model on a different but related task. It also allows us to build accurate models in a time-saving way by starting from patterns learned when solving a different problem. This approach is beneficial when there is limited data for the new task, as the pre-trained model already has learned features that can be adapted. Transfer learning can significantly improve models' performance and efficiency in domains like computer vision and natural language processing.BenefitsReduces training time — you don't start from scratch.Leverages learned features from large datasets (like ImageNet).Improves performance, especially with limited data.How Does It Work?Load a pretrained model (e.g., ResNet, EfficientNet).Freeze the pretrained layers (optional).Add new layers for your custom task.Train on your new dataset (can also fine-tune).EfficientNetV2B2: Transfer Learning Backbone\n",
        "EfficientNetV2B2 is a mid-sized model from the EfficientNetV2 family developed by Google, balancing performance and efficiency.\n",
        "⚙️ Key Features:Fused MBConv blocks — enhance both training stability and speed.Progressive learning — enables better generalization with less computation.Improved architecture — achieves higher accuracy with optimized FLOPs.Why Use EfficientNetV2B2?FeatureDescriptionBalanced PerformanceGreat trade-off between speed and accuracyScalableSuitable for moderately complex datasetsPretrained on ImageNetSolid backbone for transfer learning tasksEfficientFaster convergence with fewer resources needed\n",
        "Core Librariestensorflow: For deep learning model building and training.numpy: For numerical operations and array manipulation.matplotlib.pyplot: For plotting training curves and results."
      ],
      "metadata": {
        "id": "P1YivvjHRU3y"
      }
    }
  ]
}